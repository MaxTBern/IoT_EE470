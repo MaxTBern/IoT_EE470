# import paho.mqtt as mqtt
!pip install paho-mqtt
import paho.mqtt.client as mqtt
import mysql.connector


# Database connection details / this section is similar to previous assignments
HOST = "193.203.166.209"  # Replace with your Hostinger database IP
USER = "u376527350_db_MaxBernstei"    # Replace with your database username
PASSWORD = "*******" # Replace with your database password
DATABASE = "u376527350_MaxBernstein" # Replace with your database name

# Define the MQTT broker and topic
BROKER_URL = "broker.hivemq.com"  # Public HiveMQ broker
BROKER_PORT = 8000               # WebSocket port
TOPIC = "testtopic/max/470"   # Topic to subscribe to


def push_value_to_db(sensor_value):
   try:
       # Connect to the database
       connection = mysql.connector.connect(
           host=HOST,
           user=USER,
           password=PASSWORD,
           database=DATABASE
       )


       if connection.is_connected():
           print("Connected to the database!")


           # Create a cursor object
           cursor = connection.cursor()


           # SQL query to insert data
           insert_query = "INSERT INTO MQTT_data (data) VALUES (%s)"
           cursor.execute(insert_query, (sensor_value,))


           # Commit the transaction
           connection.commit()
           print(f"Value {sensor_value} inserted into sensor_value table!")


   except mysql.connector.Error as err:
       print(f"Error: {err}")
   finally:
       if connection.is_connected():
           cursor.close()
           connection.close()
           print("Database connection closed.")




# Define callback for connection
def on_connect(client, userdata, flags, rc):
   if rc == 0:
       print("Connected to HiveMQ broker!")
       # Subscribe to the topic once connected
       client.subscribe(TOPIC)
       print(f"Subscribed to topic: {TOPIC}")
   else:
       print(f"Failed to connect, return code {rc}")


# Define callback for receiving messages
def on_message(client, userdata, msg):
   print(f"Received message: {msg.payload.decode()} from topic: {msg.topic}")
   push_value_to_db(msg.payload.decode())


# Create an MQTT client instance
client = mqtt.Client(transport="websockets")


# Attach callback functions
client.on_connect = on_connect
client.on_message = on_message


# Connect to the HiveMQ broker
print("Connecting to broker...")
client.connect(BROKER_URL, BROKER_PORT, 60)


# Start the MQTT client loop
client.loop_forever()
